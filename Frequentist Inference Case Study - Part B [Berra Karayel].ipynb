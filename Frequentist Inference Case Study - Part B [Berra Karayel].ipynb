{
 "cells": [
  {
   "cell_type": "markdown",
   "metadata": {},
   "source": [
    "# Frequentist Inference Case Study - Part B"
   ]
  },
  {
   "cell_type": "markdown",
   "metadata": {},
   "source": [
    "## Learning objectives"
   ]
  },
  {
   "cell_type": "markdown",
   "metadata": {},
   "source": [
    "Welcome to Part B of the Frequentist inference case study! The purpose of this case study is to help you apply the concepts associated with Frequentist inference in Python. In particular, you'll practice writing Python code to apply the following statistical concepts: \n",
    "* the _z_-statistic\n",
    "* the _t_-statistic\n",
    "* the difference and relationship between the two\n",
    "* the Central Limit Theorem, including its assumptions and consequences\n",
    "* how to estimate the population mean and standard deviation from a sample\n",
    "* the concept of a sampling distribution of a test statistic, particularly for the mean\n",
    "* how to combine these concepts to calculate a confidence interval"
   ]
  },
  {
   "cell_type": "markdown",
   "metadata": {},
   "source": [
    "In the previous notebook, we used only data from a known normal distribution. **You'll now tackle real data, rather than simulated data, and answer some relevant real-world business problems using the data.**"
   ]
  },
  {
   "cell_type": "markdown",
   "metadata": {},
   "source": [
    "## Hospital medical charges"
   ]
  },
  {
   "cell_type": "markdown",
   "metadata": {},
   "source": [
    "Imagine that a hospital has hired you as their data scientist. An administrator is working on the hospital's business operations plan and needs you to help them answer some business questions. \n",
    "\n",
    "In this assignment notebook, you're going to use frequentist statistical inference on a data sample to answer the questions:\n",
    "* has the hospital's revenue stream fallen below a key threshold?\n",
    "* are patients with insurance really charged different amounts than those without?\n",
    "\n",
    "Answering that last question with a frequentist approach makes some assumptions, and requires some knowledge, about the two groups."
   ]
  },
  {
   "cell_type": "markdown",
   "metadata": {},
   "source": [
    "We are going to use some data on medical charges obtained from [Kaggle](https://www.kaggle.com/easonlai/sample-insurance-claim-prediction-dataset). \n",
    "\n",
    "For the purposes of this exercise, assume the observations are the result of random sampling from our single hospital. Recall that in the previous assignment, we introduced the Central Limit Theorem (CLT), and its consequence that the distributions of sample statistics approach a normal distribution as $n$ increases. The amazing thing about this is that it applies to the sampling distributions of statistics that have been calculated from even highly non-normal distributions of data! Recall, also, that hypothesis testing is very much based on making inferences about such sample statistics. You're going to rely heavily on the CLT to apply frequentist (parametric) tests to answer the questions in this notebook."
   ]
  },
  {
   "cell_type": "code",
   "execution_count": 2,
   "metadata": {},
   "outputs": [],
   "source": [
    "import pandas as pd\n",
    "import numpy as np\n",
    "import matplotlib.pyplot as plt\n",
    "from scipy.stats import t\n",
    "from numpy.random import seed\n",
    "medical = pd.read_csv('/Users/berrakarayel/Desktop/insurance2.csv')"
   ]
  },
  {
   "cell_type": "code",
   "execution_count": 3,
   "metadata": {},
   "outputs": [
    {
     "data": {
      "text/plain": [
       "(1338, 8)"
      ]
     },
     "execution_count": 3,
     "metadata": {},
     "output_type": "execute_result"
    }
   ],
   "source": [
    "medical.shape"
   ]
  },
  {
   "cell_type": "code",
   "execution_count": 4,
   "metadata": {},
   "outputs": [
    {
     "data": {
      "text/html": [
       "<div>\n",
       "<style scoped>\n",
       "    .dataframe tbody tr th:only-of-type {\n",
       "        vertical-align: middle;\n",
       "    }\n",
       "\n",
       "    .dataframe tbody tr th {\n",
       "        vertical-align: top;\n",
       "    }\n",
       "\n",
       "    .dataframe thead th {\n",
       "        text-align: right;\n",
       "    }\n",
       "</style>\n",
       "<table border=\"1\" class=\"dataframe\">\n",
       "  <thead>\n",
       "    <tr style=\"text-align: right;\">\n",
       "      <th></th>\n",
       "      <th>age</th>\n",
       "      <th>sex</th>\n",
       "      <th>bmi</th>\n",
       "      <th>children</th>\n",
       "      <th>smoker</th>\n",
       "      <th>region</th>\n",
       "      <th>charges</th>\n",
       "      <th>insuranceclaim</th>\n",
       "    </tr>\n",
       "  </thead>\n",
       "  <tbody>\n",
       "    <tr>\n",
       "      <th>0</th>\n",
       "      <td>19</td>\n",
       "      <td>0</td>\n",
       "      <td>27.900</td>\n",
       "      <td>0</td>\n",
       "      <td>1</td>\n",
       "      <td>3</td>\n",
       "      <td>16884.92400</td>\n",
       "      <td>1</td>\n",
       "    </tr>\n",
       "    <tr>\n",
       "      <th>1</th>\n",
       "      <td>18</td>\n",
       "      <td>1</td>\n",
       "      <td>33.770</td>\n",
       "      <td>1</td>\n",
       "      <td>0</td>\n",
       "      <td>2</td>\n",
       "      <td>1725.55230</td>\n",
       "      <td>1</td>\n",
       "    </tr>\n",
       "    <tr>\n",
       "      <th>2</th>\n",
       "      <td>28</td>\n",
       "      <td>1</td>\n",
       "      <td>33.000</td>\n",
       "      <td>3</td>\n",
       "      <td>0</td>\n",
       "      <td>2</td>\n",
       "      <td>4449.46200</td>\n",
       "      <td>0</td>\n",
       "    </tr>\n",
       "    <tr>\n",
       "      <th>3</th>\n",
       "      <td>33</td>\n",
       "      <td>1</td>\n",
       "      <td>22.705</td>\n",
       "      <td>0</td>\n",
       "      <td>0</td>\n",
       "      <td>1</td>\n",
       "      <td>21984.47061</td>\n",
       "      <td>0</td>\n",
       "    </tr>\n",
       "    <tr>\n",
       "      <th>4</th>\n",
       "      <td>32</td>\n",
       "      <td>1</td>\n",
       "      <td>28.880</td>\n",
       "      <td>0</td>\n",
       "      <td>0</td>\n",
       "      <td>1</td>\n",
       "      <td>3866.85520</td>\n",
       "      <td>1</td>\n",
       "    </tr>\n",
       "  </tbody>\n",
       "</table>\n",
       "</div>"
      ],
      "text/plain": [
       "   age  sex     bmi  children  smoker  region      charges  insuranceclaim\n",
       "0   19    0  27.900         0       1       3  16884.92400               1\n",
       "1   18    1  33.770         1       0       2   1725.55230               1\n",
       "2   28    1  33.000         3       0       2   4449.46200               0\n",
       "3   33    1  22.705         0       0       1  21984.47061               0\n",
       "4   32    1  28.880         0       0       1   3866.85520               1"
      ]
     },
     "execution_count": 4,
     "metadata": {},
     "output_type": "execute_result"
    }
   ],
   "source": [
    "medical.head()"
   ]
  },
  {
   "cell_type": "code",
   "execution_count": 5,
   "metadata": {},
   "outputs": [
    {
     "data": {
      "text/plain": [
       "Index(['age', 'sex', 'bmi', 'children', 'smoker', 'region', 'charges',\n",
       "       'insuranceclaim'],\n",
       "      dtype='object')"
      ]
     },
     "execution_count": 5,
     "metadata": {},
     "output_type": "execute_result"
    }
   ],
   "source": [
    "medical.columns"
   ]
  },
  {
   "cell_type": "markdown",
   "metadata": {},
   "source": [
    "__Q1:__ Plot the histogram of charges and calculate the mean and standard deviation. Comment on the appropriateness of these statistics for the data."
   ]
  },
  {
   "cell_type": "markdown",
   "metadata": {},
   "source": [
    "__A:__"
   ]
  },
  {
   "cell_type": "code",
   "execution_count": 6,
   "metadata": {},
   "outputs": [
    {
     "data": {
      "image/png": "[encoded data removed]",
      "text/plain": [
       "<Figure size 1200x600 with 1 Axes>"
      ]
     },
     "metadata": {},
     "output_type": "display_data"
    },
    {
     "name": "stdout",
     "output_type": "stream",
     "text": [
      "Mean Medical Charges: $13270.42\n",
      "Standard Deviation of Medical Charges: $12110.01\n"
     ]
    }
   ],
   "source": [
    "import matplotlib.pyplot as plt\n",
    "import seaborn as sns\n",
    "\n",
    "# Set the style for the plots\n",
    "sns.set(style=\"whitegrid\")\n",
    "\n",
    "# Plot the histogram of medical charges\n",
    "plt.figure(figsize=(12, 6))\n",
    "sns.histplot(medical['charges'], bins=30, kde=True, color='skyblue')\n",
    "plt.title('Histogram of Medical Charges')\n",
    "plt.xlabel('Charges')\n",
    "plt.ylabel('Frequency')\n",
    "plt.show()\n",
    "\n",
    "# Calculate mean and standard deviation\n",
    "mean_charges = np.mean(medical['charges'])\n",
    "std_charges = np.std(medical['charges'], ddof=1)  # Using ddof=1 for Bessel's correction\n",
    "\n",
    "# Print the mean and standard deviation\n",
    "print(f\"Mean Medical Charges: ${mean_charges:.2f}\")\n",
    "print(f\"Standard Deviation of Medical Charges: ${std_charges:.2f}\")"
   ]
  },
  {
   "cell_type": "markdown",
   "metadata": {},
   "source": [
    "According to the histogram, the distribution appears as right-skewed, with a long tail towards higher charges. This suggests that there are some patients with significantly higher charges. Mean and stadard deviation are sensitive to extreme values. In this case, the mean might not be a robust measure of central tendency, since the distribution is right-skewed due to extreme values and these extreme values pulling the mean towards higher values. Besides, standart deviation may not fully capture the variability due to outliers."
   ]
  },
  {
   "cell_type": "markdown",
   "metadata": {},
   "source": [
    "__Q2:__ The administrator is concerned that the actual average charge has fallen below 12,000, threatening the hospital's operational model. On the assumption that these data represent a random sample of charges, how would you justify that these data allow you to answer that question? And what would be the most appropriate frequentist test, of the ones discussed so far, to apply?"
   ]
  },
  {
   "cell_type": "markdown",
   "metadata": {},
   "source": [
    "__A:__ To address the concerns of administrator that the actual average charge has fallen below 12,000 dollars, we can perform a hypothesis test. The most appropriate frequentist test for this scenario would be a one-sample t-test. The one-sample t-test is suitable when we have a single group and want to test whether the mean of that group is different from a specified value. We are comparing the mean medical charges to a specific value which is 12,000 and we want to test if the mean charge is less than $12,000.\n",
    "\n",
    "**Null Hypothesis:** The actual average charge is equal to or above 12,000 dollars.\n",
    "\n",
    "**Alternative Hypothesis:** The actual average charge has fallen below $12,000.\n",
    "\n",
    "Once we perform the one-sample t-test, we can assess whether there is sufficient evidence to reject the null hypothesis in favor of the alternative, providing insight into the administrator's concern."
   ]
  },
  {
   "cell_type": "markdown",
   "metadata": {},
   "source": [
    "__Q3:__ Given the nature of the administrator's concern, what is the appropriate confidence interval in this case? A ***one-sided*** or ***two-sided*** interval? (Refresh your understanding of this concept on p. 399 of the *AoS*). Calculate the critical value and the relevant 95% confidence interval for the mean, and comment on whether the administrator should be concerned."
   ]
  },
  {
   "cell_type": "markdown",
   "metadata": {},
   "source": [
    "__A:__ Given the administrator's concern that the actual average charge has fallen below 12,000 dollars, a one-sided confidence interval is appropriate. This is because the administrator is primarily interested in knowing if the mean medical charges have fallen below the key threshold (less than $12,000)."
   ]
  },
  {
   "cell_type": "code",
   "execution_count": 7,
   "metadata": {},
   "outputs": [
    {
     "name": "stdout",
     "output_type": "stream",
     "text": [
      "Critical Value for 95% One-Sided Confidence Interval: 1.646\n",
      "One-Sided Confidence Interval for the Mean: ($12725.49, ∞)\n",
      "\n",
      "The administrator should be concerned as the threshold is below the lower bound of the confidence interval.\n"
     ]
    }
   ],
   "source": [
    "# Set the threshold for concern\n",
    "threshold = 12000\n",
    "\n",
    "# Calculate the critical value for a one-sided 95% confidence interval\n",
    "t_critical = t.ppf(0.95, df=len(medical['charges']) - 1)\n",
    "\n",
    "# Calculate the standard error of the mean\n",
    "se_mean = std_charges / np.sqrt(len(medical['charges']))\n",
    "\n",
    "# Calculate the margin of error for the one-sided confidence interval\n",
    "margin_of_error_one_sided = t_critical * se_mean\n",
    "\n",
    "# Calculate the one-sided confidence interval\n",
    "confidence_interval_one_sided = (mean_charges - margin_of_error_one_sided, np.inf)\n",
    "\n",
    "# Print the results\n",
    "print(f\"Critical Value for 95% One-Sided Confidence Interval: {t_critical:.3f}\")\n",
    "print(f\"One-Sided Confidence Interval for the Mean: (${confidence_interval_one_sided[0]:.2f}, ∞)\")\n",
    "\n",
    "# Check if the threshold is below the confidence interval\n",
    "if threshold < confidence_interval_one_sided[0]:\n",
    "    print(\"\\nThe administrator should be concerned as the threshold is below the lower bound of the confidence interval.\")\n",
    "else:\n",
    "    print(\"\\nThe administrator may not need to be concerned as the threshold is within the confidence interval.\")\n"
   ]
  },
  {
   "cell_type": "markdown",
   "metadata": {},
   "source": [
    "The administrator then wants to know whether people with insurance really are charged a different amount to those without.\n",
    "\n",
    "__Q4:__ State the null and alternative hypothesis here. Use the _t_-test for the difference between means, where the pooled standard deviation of the two groups is given by:\n",
    "\\begin{equation}\n",
    "s_p = \\sqrt{\\frac{(n_0 - 1)s^2_0 + (n_1 - 1)s^2_1}{n_0 + n_1 - 2}}\n",
    "\\end{equation}\n",
    "\n",
    "and the *t*-test statistic is then given by:\n",
    "\n",
    "\\begin{equation}\n",
    "t = \\frac{\\bar{x}_0 - \\bar{x}_1}{s_p \\sqrt{1/n_0 + 1/n_1}}.\n",
    "\\end{equation}\n",
    "\n",
    "(If you need some reminding of the general definition of ***t-statistic***, check out the definition on p. 404 of *AoS*). \n",
    "\n",
    "What assumption about the variances of the two groups are we making here?"
   ]
  },
  {
   "cell_type": "markdown",
   "metadata": {},
   "source": [
    "__A:__ **Null Hypothesis:** There is no significant difference in the mean charges between people with insurance and people without insurance.\n",
    "\n",
    "**Alternative Hypothesis:** There is a significant difference in the mean charges between people with insurance and people without insurance."
   ]
  },
  {
   "cell_type": "markdown",
   "metadata": {},
   "source": [
    "__Q5:__ Perform this hypothesis test both manually, using the above formulae, and then using the appropriate function from [scipy.stats](https://docs.scipy.org/doc/scipy/reference/stats.html#statistical-tests) (hint, you're looking for a function to perform a _t_-test on two independent samples). For the manual approach, calculate the value of the test statistic and then its probability (the p-value). Verify you get the same results from both."
   ]
  },
  {
   "cell_type": "markdown",
   "metadata": {},
   "source": [
    "__A:__ "
   ]
  },
  {
   "cell_type": "code",
   "execution_count": 8,
   "metadata": {},
   "outputs": [
    {
     "name": "stdout",
     "output_type": "stream",
     "text": [
      "Manual Calculation - t-statistic: 11.893\n",
      "Manual Calculation - p-value: 0.0000\n"
     ]
    }
   ],
   "source": [
    "### Manual Calculation\n",
    "\n",
    "\n",
    "# Separate the data into two groups: with insurance and without insurance\n",
    "group_0 = medical[medical['insuranceclaim'] == 1]['charges']\n",
    "group_1 = medical[medical['insuranceclaim'] == 0]['charges']\n",
    "\n",
    "# Calculate the sample means\n",
    "mean_0 = np.mean(group_0)\n",
    "mean_1 = np.mean(group_1)\n",
    "\n",
    "# Calculate the sample standard deviations\n",
    "std_0 = np.std(group_0, ddof=1)\n",
    "std_1 = np.std(group_1, ddof=1)\n",
    "\n",
    "# Calculate the sizes of the groups\n",
    "n_0 = len(group_0)\n",
    "n_1 = len(group_1)\n",
    "\n",
    "# Calculate the pooled standard deviation\n",
    "sp = np.sqrt(((n_0 - 1) * std_0**2 + (n_1 - 1) * std_1**2) / (n_0 + n_1 - 2))\n",
    "\n",
    "# Calculate the t-test statistic\n",
    "t_statistic = (mean_0 - mean_1) / (sp * np.sqrt(1/n_0 + 1/n_1))\n",
    "\n",
    "# Calculate the degrees of freedom\n",
    "df = n_0 + n_1 - 2\n",
    "\n",
    "# Calculate the p-value\n",
    "p_value = 2 * (1 - t.cdf(abs(t_statistic), df))\n",
    "\n",
    "# Print the results\n",
    "print(f\"Manual Calculation - t-statistic: {t_statistic:.3f}\")\n",
    "print(f\"Manual Calculation - p-value: {p_value:.4f}\")"
   ]
  },
  {
   "cell_type": "code",
   "execution_count": 9,
   "metadata": {},
   "outputs": [
    {
     "name": "stdout",
     "output_type": "stream",
     "text": [
      "scipy.stats Calculation - t-statistic: 11.893\n",
      "scipy.stats Calculation - p-value: 0.0000\n"
     ]
    }
   ],
   "source": [
    "### Using appropriate function\n",
    "\n",
    "from scipy.stats import ttest_ind\n",
    "\n",
    "# Perform the t-test using scipy.stats function\n",
    "t_statistic_scipy, p_value_scipy = ttest_ind(group_0, group_1)\n",
    "\n",
    "# Print the results\n",
    "print(f\"scipy.stats Calculation - t-statistic: {t_statistic_scipy:.3f}\")\n",
    "print(f\"scipy.stats Calculation - p-value: {p_value_scipy:.4f}\")"
   ]
  },
  {
   "cell_type": "markdown",
   "metadata": {},
   "source": [
    "Congratulations! Hopefully you got the exact same numerical results. This shows that you correctly calculated the numbers by hand. Secondly, you used the correct function and saw that it's much easier to use. All you need to do is pass your data to it."
   ]
  },
  {
   "cell_type": "markdown",
   "metadata": {},
   "source": [
    "__Q6:__ Conceptual question: look through the documentation for statistical test functions in scipy.stats. You'll see the above _t_-test for a sample, but can you see an equivalent one for performing a *z*-test from a sample? Comment on your answer."
   ]
  },
  {
   "cell_type": "markdown",
   "metadata": {},
   "source": [
    "__A:__ In scipy.stats, there isn't a direct equivalent function for performing a z-test from a sample like there is for a t-test. The reason for this is that z-tests are typically applied when we know the population standard deviation, and it's more common to use t-tests when dealing with sample data.\n",
    "\n",
    "While scipy.stats doesn't have a direct function for a z-test from a sample, we can achieve the same result by using the zscore function to calculate the z-scores manually and then computing the p-value using the standard normal distribution."
   ]
  },
  {
   "cell_type": "markdown",
   "metadata": {},
   "source": [
    "## Learning outcomes"
   ]
  },
  {
   "cell_type": "markdown",
   "metadata": {},
   "source": [
    "Having completed this project notebook, you now have good hands-on experience:\n",
    "* using the central limit theorem to help you apply frequentist techniques to answer questions that pertain to very non-normally distributed data from the real world\n",
    "* performing inference using such data to answer business questions\n",
    "* forming a hypothesis and framing the null and alternative hypotheses\n",
    "* testing this using a _t_-test"
   ]
  }
 ],
 "metadata": {
  "kernelspec": {
   "display_name": "Python 3 (ipykernel)",
   "language": "python",
   "name": "python3"
  },
  "language_info": {
   "codemirror_mode": {
    "name": "ipython",
    "version": 3
   },
   "file_extension": ".py",
   "mimetype": "text/x-python",
   "name": "python",
   "nbconvert_exporter": "python",
   "pygments_lexer": "ipython3",
   "version": "3.8.8"
  }
 },
 "nbformat": 4,
 "nbformat_minor": 2
}
